{
  "nbformat": 4,
  "nbformat_minor": 0,
  "metadata": {
    "colab": {
      "provenance": [],
      "authorship_tag": "ABX9TyPsX5yj9Q5reKyfuOsBbGPr",
      "include_colab_link": true
    },
    "kernelspec": {
      "name": "python3",
      "display_name": "Python 3"
    },
    "language_info": {
      "name": "python"
    }
  },
  "cells": [
    {
      "cell_type": "markdown",
      "metadata": {
        "id": "view-in-github",
        "colab_type": "text"
      },
      "source": [
        "<a href=\"https://colab.research.google.com/github/dhiren11lab/DATA-MINING/blob/main/Lab_06.ipynb\" target=\"_parent\"><img src=\"https://colab.research.google.com/assets/colab-badge.svg\" alt=\"Open In Colab\"/></a>"
      ]
    },
    {
      "cell_type": "code",
      "execution_count": 1,
      "metadata": {
        "id": "w2Q6x9yYhI1f"
      },
      "outputs": [],
      "source": [
        "import pandas as pd\n",
        "from sklearn.preprocessing import LabelEncoder, OneHotEncoder"
      ]
    },
    {
      "cell_type": "code",
      "source": [
        "#Example Data\n",
        "data={'Category':['A','B','C','A','B']}\n",
        "df=pd.DataFrame(data)"
      ],
      "metadata": {
        "id": "sk7H2ktwhfTQ"
      },
      "execution_count": 16,
      "outputs": []
    },
    {
      "cell_type": "code",
      "source": [
        "print(df)"
      ],
      "metadata": {
        "colab": {
          "base_uri": "https://localhost:8080/"
        },
        "id": "NwBnB-xflio0",
        "outputId": "ea6321d0-e142-418a-aabc-66ca712b65be"
      },
      "execution_count": 17,
      "outputs": [
        {
          "output_type": "stream",
          "name": "stdout",
          "text": [
            "  Category\n",
            "0        A\n",
            "1        B\n",
            "2        C\n",
            "3        A\n",
            "4        B\n"
          ]
        }
      ]
    },
    {
      "cell_type": "code",
      "source": [
        "#Label Encoding\n",
        "label_encoder=LabelEncoder()\n",
        "df['Label_Encoded']=label_encoder.fit_transform(df['Category'])"
      ],
      "metadata": {
        "id": "nxX33cpAh2MU"
      },
      "execution_count": 18,
      "outputs": []
    },
    {
      "cell_type": "code",
      "source": [
        "print(df)"
      ],
      "metadata": {
        "colab": {
          "base_uri": "https://localhost:8080/"
        },
        "id": "FSNdF3qZlof-",
        "outputId": "f1aee85d-0272-41f5-bf97-ab1023817c9f"
      },
      "execution_count": 19,
      "outputs": [
        {
          "output_type": "stream",
          "name": "stdout",
          "text": [
            "  Category  Label_Encoded\n",
            "0        A              0\n",
            "1        B              1\n",
            "2        C              2\n",
            "3        A              0\n",
            "4        B              1\n"
          ]
        }
      ]
    },
    {
      "cell_type": "code",
      "source": [
        "#One-hot Encoding\n",
        "one_hot_encoded=pd.get_dummies(df['Category'],prefix='Category')\n",
        "df=pd.concat([df,one_hot_encoded],axis=1)"
      ],
      "metadata": {
        "id": "PsO1aPjwiA8c"
      },
      "execution_count": 20,
      "outputs": []
    },
    {
      "cell_type": "code",
      "source": [
        "print(df)"
      ],
      "metadata": {
        "colab": {
          "base_uri": "https://localhost:8080/"
        },
        "id": "77wPq4azkvdb",
        "outputId": "ab5a20cf-4e24-49e9-b614-f6d86ca8d967"
      },
      "execution_count": 21,
      "outputs": [
        {
          "output_type": "stream",
          "name": "stdout",
          "text": [
            "  Category  Label_Encoded  Category_A  Category_B  Category_C\n",
            "0        A              0        True       False       False\n",
            "1        B              1       False        True       False\n",
            "2        C              2       False       False        True\n",
            "3        A              0        True       False       False\n",
            "4        B              1       False        True       False\n"
          ]
        }
      ]
    },
    {
      "cell_type": "code",
      "source": [
        "from datetime import datetime"
      ],
      "metadata": {
        "id": "ryi9NaO-nPPR"
      },
      "execution_count": 22,
      "outputs": []
    },
    {
      "cell_type": "code",
      "source": [
        "#example data\n",
        "data={'Name':['Alice','Bob'],'DateOfBirth':['1990-05-15','1985-08-23']}\n",
        "df=pd.DataFrame(data)"
      ],
      "metadata": {
        "id": "3flM87fLnSoY"
      },
      "execution_count": 27,
      "outputs": []
    },
    {
      "cell_type": "code",
      "source": [
        "print(df)"
      ],
      "metadata": {
        "colab": {
          "base_uri": "https://localhost:8080/"
        },
        "id": "0mCf8nLxoF1m",
        "outputId": "27f0edc5-348b-4245-e161-325977295a9f"
      },
      "execution_count": 28,
      "outputs": [
        {
          "output_type": "stream",
          "name": "stdout",
          "text": [
            "    Name DateOfBirth\n",
            "0  Alice  1990-05-15\n",
            "1    Bob  1985-08-23\n"
          ]
        }
      ]
    },
    {
      "cell_type": "code",
      "source": [
        "#Convert Data_of_Birth to datetime\n",
        "df['DateOfBirth']=pd.to_datetime(df['DateOfBirth'])"
      ],
      "metadata": {
        "id": "ZMsaFkF-nq0u"
      },
      "execution_count": 30,
      "outputs": []
    },
    {
      "cell_type": "code",
      "source": [
        "print(df)"
      ],
      "metadata": {
        "colab": {
          "base_uri": "https://localhost:8080/"
        },
        "id": "dyRMDT78oHvs",
        "outputId": "5d3b20bc-699f-4549-996c-6c93eab3872c"
      },
      "execution_count": 31,
      "outputs": [
        {
          "output_type": "stream",
          "name": "stdout",
          "text": [
            "    Name DateOfBirth\n",
            "0  Alice  1990-05-15\n",
            "1    Bob  1985-08-23\n"
          ]
        }
      ]
    },
    {
      "cell_type": "code",
      "source": [
        "#calculate Age\n",
        "current_year=datetime.now().year\n",
        "df['Age']=current_year-df['DateOfBirth'].dt.year"
      ],
      "metadata": {
        "id": "mmO0RS-mn7Xp"
      },
      "execution_count": 32,
      "outputs": []
    },
    {
      "cell_type": "code",
      "source": [
        "print(df)"
      ],
      "metadata": {
        "colab": {
          "base_uri": "https://localhost:8080/"
        },
        "id": "dpWDKMO4oCs2",
        "outputId": "fab2d7b0-ab2d-48d7-c323-45a45561cd60"
      },
      "execution_count": 33,
      "outputs": [
        {
          "output_type": "stream",
          "name": "stdout",
          "text": [
            "    Name DateOfBirth  Age\n",
            "0  Alice  1990-05-15   35\n",
            "1    Bob  1985-08-23   40\n"
          ]
        }
      ]
    },
    {
      "cell_type": "code",
      "source": [
        "#example data\n",
        "data={'Category':['A','A','B','B','C'],\n",
        "      'Value':[10,20,10,30,40]}\n",
        "df=pd.DataFrame(data)"
      ],
      "metadata": {
        "id": "46C3kstNqk4G"
      },
      "execution_count": 34,
      "outputs": []
    },
    {
      "cell_type": "code",
      "source": [
        "#Group by and aggregate\n",
        "grouped=df.groupby('Category').agg({'Value': ['sum','mean']})\n",
        "print(\"Grouped Data:\\n\", grouped)"
      ],
      "metadata": {
        "colab": {
          "base_uri": "https://localhost:8080/"
        },
        "id": "qnLudrpurS6B",
        "outputId": "91c5130d-8325-4263-99c8-256ba5a483ae"
      },
      "execution_count": 38,
      "outputs": [
        {
          "output_type": "stream",
          "name": "stdout",
          "text": [
            "Grouped Data:\n",
            "          Value      \n",
            "           sum  mean\n",
            "Category            \n",
            "A           30  15.0\n",
            "B           40  20.0\n",
            "C           40  40.0\n"
          ]
        }
      ]
    },
    {
      "cell_type": "code",
      "source": [
        "#Pivot table\n",
        "pivot = df.pivot_table(index='Category', values='Value', aggfunc=['sum', 'mean'])\n",
        "print(\"Pivot Table:\\n\", pivot)"
      ],
      "metadata": {
        "colab": {
          "base_uri": "https://localhost:8080/"
        },
        "id": "6jZrLYO5tCrc",
        "outputId": "6ad38219-33b1-4b32-d357-d689dfa20088"
      },
      "execution_count": 39,
      "outputs": [
        {
          "output_type": "stream",
          "name": "stdout",
          "text": [
            "Pivot Table:\n",
            "            sum  mean\n",
            "         Value Value\n",
            "Category            \n",
            "A           30  15.0\n",
            "B           40  20.0\n",
            "C           40  40.0\n"
          ]
        }
      ]
    }
  ]
}